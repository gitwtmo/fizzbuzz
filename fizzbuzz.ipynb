{
 "cells": [
  {
   "cell_type": "code",
   "execution_count": 1,
   "id": "41c142ac-7f72-45b3-8030-3e795a6f162a",
   "metadata": {},
   "outputs": [],
   "source": [
    "def do_fizzbuzz(num:int):\n",
    "    \"\"\"\n",
    "\n",
    "    \"\"\"\n",
    "    for i in range(1,num+1):\n",
    "        if i%3==0 or i%5==0:\n",
    "            print('fizz'*(i%3==0)+'buzz'*(i%5==0))\n",
    "        else:\n",
    "            print(i)"
   ]
  },
  {
   "cell_type": "code",
   "execution_count": 2,
   "id": "3424ad07-b32b-40ef-9988-a6dc33df7776",
   "metadata": {},
   "outputs": [
    {
     "name": "stdout",
     "output_type": "stream",
     "text": [
      "1\n",
      "2\n",
      "fizz\n",
      "4\n",
      "buzz\n",
      "fizz\n",
      "7\n",
      "8\n",
      "fizz\n",
      "buzz\n",
      "11\n",
      "fizz\n",
      "13\n",
      "14\n",
      "fizzbuzz\n",
      "16\n"
     ]
    }
   ],
   "source": [
    "if __name__ == \"__main__\":\n",
    "    do_fizzbuzz(16)"
   ]
  }
 ],
 "metadata": {
  "kernelspec": {
   "display_name": "pytest",
   "language": "python",
   "name": ".pytest"
  },
  "language_info": {
   "codemirror_mode": {
    "name": "ipython",
    "version": 3
   },
   "file_extension": ".py",
   "mimetype": "text/x-python",
   "name": "python",
   "nbconvert_exporter": "python",
   "pygments_lexer": "ipython3",
   "version": "3.10.11"
  }
 },
 "nbformat": 4,
 "nbformat_minor": 5
}
